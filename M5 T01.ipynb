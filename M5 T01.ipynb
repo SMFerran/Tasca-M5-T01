{
 "cells": [
  {
   "cell_type": "markdown",
   "metadata": {},
   "source": [
    "EXERCICI 1\n",
    "\n",
    "Descarrega el dataset adjunt de dades oficials de la UEFA i selecciona un atribut del conjunt de dades. Calcula el p-valor i digues si rebutja la hipòtesi nul·la agafant un alfa de 5%. \n"
   ]
  },
  {
   "cell_type": "code",
   "execution_count": 57,
   "metadata": {},
   "outputs": [
    {
     "data": {
      "text/plain": [
       "(98, 21)"
      ]
     },
     "execution_count": 57,
     "metadata": {},
     "output_type": "execute_result"
    }
   ],
   "source": [
    "import numpy as np\n",
    "import pandas as pd\n",
    "df=pd.read_csv('C:\\\\Users\\client277192\\\\Documents\\\\01-IT ACADEMY. DATA SCIENCE\\\\Test Hipotesis and Machine Learning\\\\M5\\\\Lligues europees UEFA.csv', encoding='ISO-8859-1', sep=';')\n",
    "df.shape"
   ]
  },
  {
   "cell_type": "code",
   "execution_count": 58,
   "metadata": {},
   "outputs": [
    {
     "data": {
      "text/html": [
       "<div>\n",
       "<style scoped>\n",
       "    .dataframe tbody tr th:only-of-type {\n",
       "        vertical-align: middle;\n",
       "    }\n",
       "\n",
       "    .dataframe tbody tr th {\n",
       "        vertical-align: top;\n",
       "    }\n",
       "\n",
       "    .dataframe thead th {\n",
       "        text-align: right;\n",
       "    }\n",
       "</style>\n",
       "<table border=\"1\" class=\"dataframe\">\n",
       "  <thead>\n",
       "    <tr style=\"text-align: right;\">\n",
       "      <th></th>\n",
       "      <th>Rk</th>\n",
       "      <th>LgRk</th>\n",
       "      <th>MP</th>\n",
       "      <th>W</th>\n",
       "      <th>D</th>\n",
       "      <th>L</th>\n",
       "      <th>GF</th>\n",
       "      <th>GA</th>\n",
       "      <th>GD</th>\n",
       "      <th>Pts</th>\n",
       "      <th>Pts/G</th>\n",
       "      <th>xG</th>\n",
       "      <th>xGA</th>\n",
       "      <th>xGD</th>\n",
       "      <th>xGD/90</th>\n",
       "      <th>Attendance</th>\n",
       "    </tr>\n",
       "  </thead>\n",
       "  <tbody>\n",
       "    <tr>\n",
       "      <th>count</th>\n",
       "      <td>98.000000</td>\n",
       "      <td>98.000000</td>\n",
       "      <td>98.000000</td>\n",
       "      <td>98.000000</td>\n",
       "      <td>98.000000</td>\n",
       "      <td>98.00000</td>\n",
       "      <td>98.000000</td>\n",
       "      <td>98.000000</td>\n",
       "      <td>98.000000</td>\n",
       "      <td>98.000000</td>\n",
       "      <td>98.000000</td>\n",
       "      <td>98.000000</td>\n",
       "      <td>98.000000</td>\n",
       "      <td>98.000000</td>\n",
       "      <td>98.000000</td>\n",
       "      <td>98.000000</td>\n",
       "    </tr>\n",
       "    <tr>\n",
       "      <th>mean</th>\n",
       "      <td>49.500000</td>\n",
       "      <td>10.316327</td>\n",
       "      <td>36.306122</td>\n",
       "      <td>13.448980</td>\n",
       "      <td>9.408163</td>\n",
       "      <td>13.44898</td>\n",
       "      <td>50.877551</td>\n",
       "      <td>50.877551</td>\n",
       "      <td>0.000000</td>\n",
       "      <td>49.734694</td>\n",
       "      <td>1.370204</td>\n",
       "      <td>48.653061</td>\n",
       "      <td>48.645918</td>\n",
       "      <td>-0.005102</td>\n",
       "      <td>0.000918</td>\n",
       "      <td>24239.857143</td>\n",
       "    </tr>\n",
       "    <tr>\n",
       "      <th>std</th>\n",
       "      <td>28.434134</td>\n",
       "      <td>5.706926</td>\n",
       "      <td>1.152390</td>\n",
       "      <td>5.747474</td>\n",
       "      <td>2.903381</td>\n",
       "      <td>5.12347</td>\n",
       "      <td>16.102933</td>\n",
       "      <td>13.634602</td>\n",
       "      <td>26.501896</td>\n",
       "      <td>16.166371</td>\n",
       "      <td>0.443903</td>\n",
       "      <td>12.453950</td>\n",
       "      <td>9.812481</td>\n",
       "      <td>19.992506</td>\n",
       "      <td>0.551414</td>\n",
       "      <td>14874.171842</td>\n",
       "    </tr>\n",
       "    <tr>\n",
       "      <th>min</th>\n",
       "      <td>1.000000</td>\n",
       "      <td>1.000000</td>\n",
       "      <td>34.000000</td>\n",
       "      <td>3.000000</td>\n",
       "      <td>3.000000</td>\n",
       "      <td>2.00000</td>\n",
       "      <td>23.000000</td>\n",
       "      <td>24.000000</td>\n",
       "      <td>-56.000000</td>\n",
       "      <td>18.000000</td>\n",
       "      <td>0.530000</td>\n",
       "      <td>28.200000</td>\n",
       "      <td>26.800000</td>\n",
       "      <td>-40.400000</td>\n",
       "      <td>-1.090000</td>\n",
       "      <td>5870.000000</td>\n",
       "    </tr>\n",
       "    <tr>\n",
       "      <th>25%</th>\n",
       "      <td>25.250000</td>\n",
       "      <td>5.250000</td>\n",
       "      <td>36.000000</td>\n",
       "      <td>9.000000</td>\n",
       "      <td>7.000000</td>\n",
       "      <td>10.00000</td>\n",
       "      <td>39.000000</td>\n",
       "      <td>40.000000</td>\n",
       "      <td>-17.750000</td>\n",
       "      <td>37.000000</td>\n",
       "      <td>1.000000</td>\n",
       "      <td>39.100000</td>\n",
       "      <td>41.300000</td>\n",
       "      <td>-13.575000</td>\n",
       "      <td>-0.365000</td>\n",
       "      <td>12355.500000</td>\n",
       "    </tr>\n",
       "    <tr>\n",
       "      <th>50%</th>\n",
       "      <td>49.500000</td>\n",
       "      <td>10.000000</td>\n",
       "      <td>37.000000</td>\n",
       "      <td>13.000000</td>\n",
       "      <td>9.000000</td>\n",
       "      <td>13.00000</td>\n",
       "      <td>47.000000</td>\n",
       "      <td>50.000000</td>\n",
       "      <td>-1.000000</td>\n",
       "      <td>46.000000</td>\n",
       "      <td>1.300000</td>\n",
       "      <td>46.450000</td>\n",
       "      <td>47.750000</td>\n",
       "      <td>-1.100000</td>\n",
       "      <td>-0.030000</td>\n",
       "      <td>20491.000000</td>\n",
       "    </tr>\n",
       "    <tr>\n",
       "      <th>75%</th>\n",
       "      <td>73.750000</td>\n",
       "      <td>15.000000</td>\n",
       "      <td>37.000000</td>\n",
       "      <td>17.000000</td>\n",
       "      <td>11.000000</td>\n",
       "      <td>17.00000</td>\n",
       "      <td>60.000000</td>\n",
       "      <td>59.000000</td>\n",
       "      <td>17.250000</td>\n",
       "      <td>61.750000</td>\n",
       "      <td>1.695000</td>\n",
       "      <td>55.550000</td>\n",
       "      <td>54.700000</td>\n",
       "      <td>12.800000</td>\n",
       "      <td>0.355000</td>\n",
       "      <td>32382.000000</td>\n",
       "    </tr>\n",
       "    <tr>\n",
       "      <th>max</th>\n",
       "      <td>98.000000</td>\n",
       "      <td>20.000000</td>\n",
       "      <td>37.000000</td>\n",
       "      <td>28.000000</td>\n",
       "      <td>16.000000</td>\n",
       "      <td>26.00000</td>\n",
       "      <td>97.000000</td>\n",
       "      <td>89.000000</td>\n",
       "      <td>72.000000</td>\n",
       "      <td>90.000000</td>\n",
       "      <td>2.430000</td>\n",
       "      <td>88.100000</td>\n",
       "      <td>73.300000</td>\n",
       "      <td>59.300000</td>\n",
       "      <td>1.600000</td>\n",
       "      <td>73150.000000</td>\n",
       "    </tr>\n",
       "  </tbody>\n",
       "</table>\n",
       "</div>"
      ],
      "text/plain": [
       "              Rk       LgRk         MP          W          D         L  \\\n",
       "count  98.000000  98.000000  98.000000  98.000000  98.000000  98.00000   \n",
       "mean   49.500000  10.316327  36.306122  13.448980   9.408163  13.44898   \n",
       "std    28.434134   5.706926   1.152390   5.747474   2.903381   5.12347   \n",
       "min     1.000000   1.000000  34.000000   3.000000   3.000000   2.00000   \n",
       "25%    25.250000   5.250000  36.000000   9.000000   7.000000  10.00000   \n",
       "50%    49.500000  10.000000  37.000000  13.000000   9.000000  13.00000   \n",
       "75%    73.750000  15.000000  37.000000  17.000000  11.000000  17.00000   \n",
       "max    98.000000  20.000000  37.000000  28.000000  16.000000  26.00000   \n",
       "\n",
       "              GF         GA         GD        Pts      Pts/G         xG  \\\n",
       "count  98.000000  98.000000  98.000000  98.000000  98.000000  98.000000   \n",
       "mean   50.877551  50.877551   0.000000  49.734694   1.370204  48.653061   \n",
       "std    16.102933  13.634602  26.501896  16.166371   0.443903  12.453950   \n",
       "min    23.000000  24.000000 -56.000000  18.000000   0.530000  28.200000   \n",
       "25%    39.000000  40.000000 -17.750000  37.000000   1.000000  39.100000   \n",
       "50%    47.000000  50.000000  -1.000000  46.000000   1.300000  46.450000   \n",
       "75%    60.000000  59.000000  17.250000  61.750000   1.695000  55.550000   \n",
       "max    97.000000  89.000000  72.000000  90.000000   2.430000  88.100000   \n",
       "\n",
       "             xGA        xGD     xGD/90    Attendance  \n",
       "count  98.000000  98.000000  98.000000     98.000000  \n",
       "mean   48.645918  -0.005102   0.000918  24239.857143  \n",
       "std     9.812481  19.992506   0.551414  14874.171842  \n",
       "min    26.800000 -40.400000  -1.090000   5870.000000  \n",
       "25%    41.300000 -13.575000  -0.365000  12355.500000  \n",
       "50%    47.750000  -1.100000  -0.030000  20491.000000  \n",
       "75%    54.700000  12.800000   0.355000  32382.000000  \n",
       "max    73.300000  59.300000   1.600000  73150.000000  "
      ]
     },
     "execution_count": 58,
     "metadata": {},
     "output_type": "execute_result"
    }
   ],
   "source": [
    "df.describe()"
   ]
  },
  {
   "cell_type": "code",
   "execution_count": 59,
   "metadata": {},
   "outputs": [
    {
     "data": {
      "text/html": [
       "<div>\n",
       "<style scoped>\n",
       "    .dataframe tbody tr th:only-of-type {\n",
       "        vertical-align: middle;\n",
       "    }\n",
       "\n",
       "    .dataframe tbody tr th {\n",
       "        vertical-align: top;\n",
       "    }\n",
       "\n",
       "    .dataframe thead th {\n",
       "        text-align: right;\n",
       "    }\n",
       "</style>\n",
       "<table border=\"1\" class=\"dataframe\">\n",
       "  <thead>\n",
       "    <tr style=\"text-align: right;\">\n",
       "      <th></th>\n",
       "      <th>Rk</th>\n",
       "      <th>Squad</th>\n",
       "      <th>Country</th>\n",
       "      <th>LgRk</th>\n",
       "      <th>MP</th>\n",
       "      <th>W</th>\n",
       "      <th>D</th>\n",
       "      <th>L</th>\n",
       "      <th>GF</th>\n",
       "      <th>GA</th>\n",
       "      <th>...</th>\n",
       "      <th>Pts</th>\n",
       "      <th>Pts/G</th>\n",
       "      <th>xG</th>\n",
       "      <th>xGA</th>\n",
       "      <th>xGD</th>\n",
       "      <th>xGD/90</th>\n",
       "      <th>Last 5</th>\n",
       "      <th>Attendance</th>\n",
       "      <th>Top Team Scorer</th>\n",
       "      <th>Goalkeeper</th>\n",
       "    </tr>\n",
       "  </thead>\n",
       "  <tbody>\n",
       "    <tr>\n",
       "      <th>0</th>\n",
       "      <td>1</td>\n",
       "      <td>Manchester City</td>\n",
       "      <td>ENG</td>\n",
       "      <td>1</td>\n",
       "      <td>37</td>\n",
       "      <td>28</td>\n",
       "      <td>6</td>\n",
       "      <td>3</td>\n",
       "      <td>96</td>\n",
       "      <td>24</td>\n",
       "      <td>...</td>\n",
       "      <td>90</td>\n",
       "      <td>2.43</td>\n",
       "      <td>86.1</td>\n",
       "      <td>26.8</td>\n",
       "      <td>59.3</td>\n",
       "      <td>1.60</td>\n",
       "      <td>W W W W D</td>\n",
       "      <td>52739</td>\n",
       "      <td>Kevin De Bruyne - 15</td>\n",
       "      <td>Ederson</td>\n",
       "    </tr>\n",
       "    <tr>\n",
       "      <th>1</th>\n",
       "      <td>2</td>\n",
       "      <td>Liverpool</td>\n",
       "      <td>ENG</td>\n",
       "      <td>2</td>\n",
       "      <td>36</td>\n",
       "      <td>26</td>\n",
       "      <td>8</td>\n",
       "      <td>2</td>\n",
       "      <td>89</td>\n",
       "      <td>24</td>\n",
       "      <td>...</td>\n",
       "      <td>86</td>\n",
       "      <td>2.39</td>\n",
       "      <td>84.6</td>\n",
       "      <td>33.1</td>\n",
       "      <td>51.4</td>\n",
       "      <td>1.43</td>\n",
       "      <td>W W W D W</td>\n",
       "      <td>53367</td>\n",
       "      <td>Mohamed Salah - 22</td>\n",
       "      <td>Alisson</td>\n",
       "    </tr>\n",
       "    <tr>\n",
       "      <th>2</th>\n",
       "      <td>3</td>\n",
       "      <td>Real Madrid</td>\n",
       "      <td>ESP</td>\n",
       "      <td>1</td>\n",
       "      <td>37</td>\n",
       "      <td>26</td>\n",
       "      <td>7</td>\n",
       "      <td>4</td>\n",
       "      <td>80</td>\n",
       "      <td>31</td>\n",
       "      <td>...</td>\n",
       "      <td>85</td>\n",
       "      <td>2.30</td>\n",
       "      <td>73.0</td>\n",
       "      <td>45.8</td>\n",
       "      <td>27.2</td>\n",
       "      <td>0.73</td>\n",
       "      <td>W W L W D</td>\n",
       "      <td>40624</td>\n",
       "      <td>Karim Benzema - 27</td>\n",
       "      <td>Thibaut Courtois</td>\n",
       "    </tr>\n",
       "  </tbody>\n",
       "</table>\n",
       "<p>3 rows × 21 columns</p>\n",
       "</div>"
      ],
      "text/plain": [
       "   Rk            Squad Country  LgRk  MP   W  D  L  GF  GA  ...  Pts  Pts/G  \\\n",
       "0   1  Manchester City     ENG     1  37  28  6  3  96  24  ...   90   2.43   \n",
       "1   2        Liverpool     ENG     2  36  26  8  2  89  24  ...   86   2.39   \n",
       "2   3      Real Madrid     ESP     1  37  26  7  4  80  31  ...   85   2.30   \n",
       "\n",
       "     xG   xGA   xGD  xGD/90     Last 5 Attendance       Top Team Scorer  \\\n",
       "0  86.1  26.8  59.3    1.60  W W W W D      52739  Kevin De Bruyne - 15   \n",
       "1  84.6  33.1  51.4    1.43  W W W D W      53367    Mohamed Salah - 22   \n",
       "2  73.0  45.8  27.2    0.73  W W L W D      40624    Karim Benzema - 27   \n",
       "\n",
       "         Goalkeeper  \n",
       "0           Ederson  \n",
       "1           Alisson  \n",
       "2  Thibaut Courtois  \n",
       "\n",
       "[3 rows x 21 columns]"
      ]
     },
     "execution_count": 59,
     "metadata": {},
     "output_type": "execute_result"
    }
   ],
   "source": [
    "df.head(3)"
   ]
  },
  {
   "cell_type": "code",
   "execution_count": 60,
   "metadata": {},
   "outputs": [
    {
     "name": "stdout",
     "output_type": "stream",
     "text": [
      "<class 'pandas.core.frame.DataFrame'>\n",
      "RangeIndex: 98 entries, 0 to 97\n",
      "Data columns (total 21 columns):\n",
      " #   Column           Non-Null Count  Dtype  \n",
      "---  ------           --------------  -----  \n",
      " 0   Rk               98 non-null     int64  \n",
      " 1   Squad            98 non-null     object \n",
      " 2   Country          98 non-null     object \n",
      " 3   LgRk             98 non-null     int64  \n",
      " 4   MP               98 non-null     int64  \n",
      " 5   W                98 non-null     int64  \n",
      " 6   D                98 non-null     int64  \n",
      " 7   L                98 non-null     int64  \n",
      " 8   GF               98 non-null     int64  \n",
      " 9   GA               98 non-null     int64  \n",
      " 10  GD               98 non-null     int64  \n",
      " 11  Pts              98 non-null     int64  \n",
      " 12  Pts/G            98 non-null     float64\n",
      " 13  xG               98 non-null     float64\n",
      " 14  xGA              98 non-null     float64\n",
      " 15  xGD              98 non-null     float64\n",
      " 16  xGD/90           98 non-null     float64\n",
      " 17  Last 5           98 non-null     object \n",
      " 18  Attendance       98 non-null     int64  \n",
      " 19  Top Team Scorer  98 non-null     object \n",
      " 20  Goalkeeper       98 non-null     object \n",
      "dtypes: float64(5), int64(11), object(5)\n",
      "memory usage: 16.2+ KB\n"
     ]
    }
   ],
   "source": [
    "df.info()"
   ]
  },
  {
   "cell_type": "code",
   "execution_count": 61,
   "metadata": {},
   "outputs": [
    {
     "data": {
      "text/plain": [
       "13.45"
      ]
     },
     "execution_count": 61,
     "metadata": {},
     "output_type": "execute_result"
    }
   ],
   "source": [
    "media_mp=df['W'].mean().round(2)\n",
    "media_mp"
   ]
  },
  {
   "cell_type": "code",
   "execution_count": 62,
   "metadata": {},
   "outputs": [
    {
     "name": "stdout",
     "output_type": "stream",
     "text": [
      "el estadistico de shapiro es0.96535325050354, el p_value de shapiro es:0.010963087901473045 \n",
      "el estadistico me muestra q la muestra es normal pero el p_valor no lo corrabora\n"
     ]
    }
   ],
   "source": [
    "#Condiciones para aplicar t-test\n",
    "#Independencia de los datos. Si\n",
    "#Homogeneidad varianzas. Si\n",
    "#Normalidad de los datos\n",
    "\n",
    "#Normalidad de los datos\n",
    "stat, p_value_shapiro = shapiro(df['W'])\n",
    "print(f'el estadistico de shapiro es{stat}, el p_value de shapiro es:{p_value_shapiro} ')\n",
    "print('el estadistico me muestra q la muestra es normal pero el p_valor no lo corrabora')"
   ]
  },
  {
   "cell_type": "code",
   "execution_count": 63,
   "metadata": {},
   "outputs": [],
   "source": [
    "#hipotesis\n",
    "H0='la media de la columna W es igual a 14'\n",
    "H1='la media de la columna W es menor que 14'\n",
    "import scipy.stats as stats\n",
    "\n",
    "t_stat, p_value = stats.ttest_1samp(df['W'], 14)   \n"
   ]
  },
  {
   "cell_type": "code",
   "execution_count": 64,
   "metadata": {},
   "outputs": [
    {
     "name": "stdout",
     "output_type": "stream",
     "text": [
      "Test statistic: -0.9490820034869016\n",
      "p_value:  0.3449375342969059\n"
     ]
    }
   ],
   "source": [
    "print('Test statistic:', t_stat)\n",
    "print('p_value: ',p_value)"
   ]
  },
  {
   "cell_type": "code",
   "execution_count": 65,
   "metadata": {},
   "outputs": [
    {
     "name": "stdout",
     "output_type": "stream",
     "text": [
      "no se rechaza la hipoteis nula:la media de la columna W NO es igual a 14\n"
     ]
    }
   ],
   "source": [
    "alfa=0.05\n",
    "if p_value < alfa:\n",
    "    print('se rechaza la hipoteis nula:la media de la columna W es igual a 14 ')\n",
    "else:   \n",
    "    print('no se rechaza la hipoteis nula:la media de la columna W NO es igual a 14')"
   ]
  },
  {
   "cell_type": "markdown",
   "metadata": {},
   "source": [
    "EXERCICI 2\n",
    "Amb el mateix dataset selecciona dos altres atributs del conjunt de dades. Calcula els p-valors i digues si rebutgen la hipòtesi nul·la agafant un alfa de 5%.\n"
   ]
  },
  {
   "cell_type": "code",
   "execution_count": 74,
   "metadata": {},
   "outputs": [
    {
     "name": "stdout",
     "output_type": "stream",
     "text": [
      "Test de Normalidad (Shapiro-Wilk - p-valor: 0.0346611924469471)\n",
      "no es una distribución normal porque el p_valor es inferior a 0.05\n"
     ]
    }
   ],
   "source": [
    "H0='El squad Barcelona ha realizado mas Pts que la media de los equipos' \n",
    "Ha='El squad Barcelona No ha realizado mas Pts que la media de los equipos'\n",
    "\n",
    "from scipy.stats import shapiro\n",
    "import pingouin as pg\n",
    "\n",
    "#TEST DE NORMALIDAD SHAPIRO-WILK. la hipotesis nula es que siguen distribución normal.\n",
    "#en este caso sólo hay una variabla numerica, la otra es categorica\n",
    "\n",
    "stat, p_valor=shapiro(df['Pts'])\n",
    "print(f'Test de Normalidad (Shapiro-Wilk - p-valor: {p_valor})')\n",
    "print('no es una distribución normal porque el p_valor es inferior a 0.05')\n",
    "#o\n",
    "#pg.normality(df['Pts'], method='shapiro')\n",
    "#print('no es una distribución normal porque el p-valor es inferior a 0.05')"
   ]
  },
  {
   "cell_type": "code",
   "execution_count": 42,
   "metadata": {},
   "outputs": [
    {
     "name": "stdout",
     "output_type": "stream",
     "text": [
      "Media de Pts de Barcelona:73.0\n",
      "Media de Pts de todos los equipos:49.734693877551024\n"
     ]
    }
   ],
   "source": [
    "media_Barcelona= df.loc[df['Squad'] =='Barcelona', 'Pts'].mean() \n",
    "media_todos=df['Pts'].mean()\n",
    "\n",
    "print(f'Media de Pts de Barcelona:{media_Barcelona}')\n",
    "print(f'Media de Pts de todos los equipos:{media_todos}')\n"
   ]
  },
  {
   "cell_type": "code",
   "execution_count": 26,
   "metadata": {},
   "outputs": [
    {
     "name": "stdout",
     "output_type": "stream",
     "text": [
      "Test t de la muestra - p_valor: 1.6247262894653765e-25\n"
     ]
    }
   ],
   "source": [
    "alfa=0.05\n",
    "\n",
    "t_stat,p_value=stats.ttest_1samp(df['Pts'], media_Barcelona)\n",
    "\n",
    "print(f'Test t de la muestra - p_valor: {p_value}')"
   ]
  },
  {
   "cell_type": "code",
   "execution_count": 70,
   "metadata": {},
   "outputs": [
    {
     "name": "stdout",
     "output_type": "stream",
     "text": [
      "valor p =0.3449375342969059. No hay suficiente evidencia para rechazar la hipoteisi nula\n"
     ]
    }
   ],
   "source": [
    "if p_value<alfa:\n",
    "   print(f'valor p ={p_value}. Se rechaza la hipotesis nula')\n",
    "else:\n",
    "   print(f'valor p ={p_value}. No hay suficiente evidencia para rechazar la hipoteisi nula')"
   ]
  },
  {
   "cell_type": "markdown",
   "metadata": {},
   "source": [
    "EXERCICI 3\n",
    "\n",
    "Continua amb el conjunt de dades adjunt i selecciona tres atributs del conjunt de dades. Calcula el p-valor i digues si rebutja la hipòtesi nul·la agafant un alfa de 5%."
   ]
  },
  {
   "cell_type": "code",
   "execution_count": 25,
   "metadata": {},
   "outputs": [
    {
     "name": "stdout",
     "output_type": "stream",
     "text": [
      "Country\n",
      "ENG    0.368339\n",
      "ESP    0.010392\n",
      "FRA    0.058342\n",
      "GER    0.502542\n",
      "ITA    0.000540\n",
      "Name: Attendance, dtype: float64\n",
      "Los valores superiores a 0.05 sugieren que tienen una disribución normal, los inferiores que no\n",
      "la distribución de la normalidad no es muy buena en España y Italia\n"
     ]
    }
   ],
   "source": [
    "#Condiciones para aplicar prueba ANOVA\n",
    "#Independencia de los datos. SI\n",
    "#DISTRIBUCION NORMAL- Shapiro-Wilk\n",
    "\n",
    "HO='distribución normal'\n",
    "H1='distribución NO normal'\n",
    "\n",
    "from scipy.stats import shapiro, levene\n",
    "normalidad = df.groupby('Country')['Attendance'].apply(lambda x: shapiro(x)[1])\n",
    "print(normalidad)\n",
    "print('Los valores superiores a 0.05 sugieren que tienen una disribución normal, los inferiores que no')\n",
    "print('la distribución de la normalidad no es muy buena en España y Italia')"
   ]
  },
  {
   "cell_type": "code",
   "execution_count": 26,
   "metadata": {},
   "outputs": [
    {
     "name": "stdout",
     "output_type": "stream",
     "text": [
      "levene_stat=1.1825343697963033, levene_p_value=0.3236643472017759\n",
      "no hay diferencia significativa entre varianzas de grupos\n"
     ]
    }
   ],
   "source": [
    "#homogeniedad de las varianzas\n",
    "\n",
    "levene_stat, levene_p_value = levene(*[group for country, group in df.groupby('Country')['Attendance']])\n",
    "print(f'levene_stat={levene_stat}, levene_p_value={levene_p_value}')\n",
    "print('no hay diferencia significativa entre varianzas de grupos')"
   ]
  },
  {
   "cell_type": "code",
   "execution_count": 11,
   "metadata": {},
   "outputs": [
    {
     "data": {
      "text/plain": [
       "Country\n",
       "ENG    [52739, 53367, 36991, 56234, 59636, 73150, 583...\n",
       "ESP    [40624, 53933, 48039, 29669, 41749, 26992, 142...\n",
       "FRA    [41188, 5870, 51082, 25309, 23462, 15478, 2846...\n",
       "GER    [33176, 41800, 17356, 22124, 14046, 18741, 319...\n",
       "ITA    [42388, 41995, 26681, 21627, 21235, 19801, 407...\n",
       "Name: Attendance, dtype: object"
      ]
     },
     "execution_count": 11,
     "metadata": {},
     "output_type": "execute_result"
    }
   ],
   "source": [
    "H0=' la media de espectadores por pais es igual en todos los paises'\n",
    "H1= 'la media de espectadores por pais NO es igual en todos los paises'\n",
    "\n",
    "#Hago un estadistico ANOVA. Primero agrupo los datos\n",
    "\n",
    "agrupación=df.groupby('Country')['Attendance'].apply (list)  #apply(list) tengo agrupado por pais y luego la lista de asistencias por pais\n",
    "agrupación"
   ]
  },
  {
   "cell_type": "code",
   "execution_count": 13,
   "metadata": {},
   "outputs": [],
   "source": [
    "from scipy.stats import f_oneway\n",
    "\n",
    "stat, p = f_oneway(*agrupación)\n"
   ]
  },
  {
   "cell_type": "code",
   "execution_count": 14,
   "metadata": {},
   "outputs": [
    {
     "name": "stdout",
     "output_type": "stream",
     "text": [
      "Estadistico F: 9.531073835720898\n",
      "p_valor1.6755280882403356e-06\n"
     ]
    }
   ],
   "source": [
    "print(f'Estadistico F: {stat}')\n",
    "print(f'p_valor{p}')"
   ]
  },
  {
   "cell_type": "code",
   "execution_count": 75,
   "metadata": {},
   "outputs": [
    {
     "name": "stdout",
     "output_type": "stream",
     "text": [
      "valor p =1.6755280882403356e-06. Se rechaza la hipotesis nula:la media de espectadores por pais es igual en todos los paises\n"
     ]
    }
   ],
   "source": [
    "alfa= 0.05\n",
    "if p<alfa:\n",
    "   print(f'valor p ={p}. Se rechaza la hipotesis nula:la media de espectadores por pais es igual en todos los paises')\n",
    "else:\n",
    "   print(f'valor p ={p}. No hay suficiente evidencia para rechazar la hipoteisi nula')"
   ]
  }
 ],
 "metadata": {
  "kernelspec": {
   "display_name": "Python 3",
   "language": "python",
   "name": "python3"
  },
  "language_info": {
   "codemirror_mode": {
    "name": "ipython",
    "version": 3
   },
   "file_extension": ".py",
   "mimetype": "text/x-python",
   "name": "python",
   "nbconvert_exporter": "python",
   "pygments_lexer": "ipython3",
   "version": "3.11.4"
  }
 },
 "nbformat": 4,
 "nbformat_minor": 2
}
